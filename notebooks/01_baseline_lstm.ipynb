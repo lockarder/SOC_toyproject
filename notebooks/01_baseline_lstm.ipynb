{
 "cells": [
  {
   "cell_type": "code",
   "execution_count": 2,
   "id": "218d0159",
   "metadata": {},
   "outputs": [
    {
     "name": "stdout",
     "output_type": "stream",
     "text": [
      "当前工作目录: C:\\Users\\shiang Guo\\Desktop\\github_res\\SOC_toyproject\n"
     ]
    }
   ],
   "source": [
    "import scipy.io\n",
    "import pandas as pd\n",
    "import matplotlib.pyplot as plt\n",
    "import os\n",
    "import numpy as np\n",
    "import sys\n",
    "os.chdir(r\"c:\\Users\\shiang Guo\\Desktop\\github_res\\SOC_toyproject\")\n",
    "\n",
    "\n",
    "target_dir = r\"C:\\Users\\shiang Guo\\Desktop\\github_res\\SOC_toyproject\"\n",
    "os.chdir(target_dir)\n",
    "print(\"当前工作目录:\", os.getcwd())"
   ]
  },
  {
   "cell_type": "code",
   "execution_count": null,
   "id": "fd508225",
   "metadata": {},
   "outputs": [],
   "source": [
    "mat_path = os.path.join(\"data\", \"raw\", \"BatteryAgingARC-FY08Q4\", \"B0005.mat\")\n",
    "mat_data = scipy.io.loadmat(mat_path)\n",
    "\n",
    "print(\"MAT 文件包含的变量:\", mat_data.keys())\n",
    "battery_data = mat_data['B0005']\n",
    "print(\"类型:\", type(battery_data))\n",
    "print(\"字段:\", battery_data.dtype.names)\n",
    "\n",
    "battery_struct = battery_data[0, 0]\n",
    "cycles = battery_struct['cycle']\n",
    "print(\"总循环次数:\", cycles.shape)\n",
    "print(\"字段名:\", cycles.dtype.names)\n"
   ]
  },
  {
   "cell_type": "code",
   "execution_count": null,
   "id": "a6943bc2",
   "metadata": {},
   "outputs": [],
   "source": [
    "from utils import visualize_battery_cycle\n",
    "data_folder = r\"data/raw/BatteryAgingARC-FY08Q4\"\n",
    "mat_filename = \"B0005.mat\"\n",
    "cycle_index = 3  # 你想查看的 cycle 序号\n",
    "visualize = True\n",
    "total_cycles = visualize_battery_cycle(data_folder, mat_filename, cycle_index, visualize)\n",
    "print(\"该文件总循环数：\", total_cycles)"
   ]
  },
  {
   "cell_type": "code",
   "execution_count": null,
   "id": "149a3c0f",
   "metadata": {},
   "outputs": [],
   "source": [
    "mat_path = r\"data/raw/BatteryAgingARC-FY08Q4/B0006.mat\"\n",
    "mat_data = scipy.io.loadmat(mat_path)\n",
    "print(mat_data.keys())  # 打印所有变量名\n",
    "battery_data = mat_data['B000']  # 用实际变量名替换\n",
    "\n",
    "cycle0 = battery_data['cycle'][0, 0]  # 第0个cycle，改索引看不同cycle\n",
    "cycle00=cycle0[0, 5]  # 第0个cycle的第0个数据\n",
    "print(\"cycle的类型:\", cycle00.shape)\n",
    "print(\"cycle的字段:\", cycle00[\"type\"])\n",
    "data = cycle00['data'][0, 0]  # 取data字段\n",
    "print(cycle00[\"time\"].flatten())  # 打印字段名\n",
    "time_array = data['Time'].flatten()\n",
    "print(time_array)\n",
    "import numpy as np\n",
    "\n",
    "time_diff = np.diff(time_array)\n",
    "print(time_diff)\n",
    "\n",
    "print(\"时间间隔均匀度统计：\")\n",
    "print(\"最大间隔:\", time_diff.max())\n",
    "print(\"最小间隔:\", time_diff.min())\n",
    "print(\"均值间隔:\", time_diff.mean())\n",
    "print(\"标准差:\", time_diff.std())\n"
   ]
  },
  {
   "cell_type": "code",
   "execution_count": null,
   "id": "52fa08e7",
   "metadata": {},
   "outputs": [],
   "source": [
    "# mat_to_csv_demo.ipynb\n",
    "\n",
    "import scipy.io\n",
    "import numpy as np\n",
    "import pandas as pd\n",
    "\n",
    "def cycle_time_to_str(cycle_time_arr):\n",
    "    return f\"{int(cycle_time_arr[0]):04d}-{int(cycle_time_arr[1]):02d}-{int(cycle_time_arr[2]):02d} \" \\\n",
    "           f\"{int(cycle_time_arr[3]):02d}:{int(cycle_time_arr[4]):02d}:{int(cycle_time_arr[5]):02d}\"\n",
    "\n",
    "def parse_mat_to_df(mat_path):\n",
    "    mat_data = scipy.io.loadmat(mat_path)\n",
    "    battery_key = [key for key in mat_data if not key.startswith('__')][0]\n",
    "    battery_data = mat_data[battery_key]\n",
    "    cycles = battery_data['cycle'][0, 0][0]\n",
    "    \n",
    "    all_dfs = []\n",
    "    \n",
    "    for i, cycle in enumerate(cycles):\n",
    "        cycle_type = cycle['type'][0]\n",
    "        if cycle_type == 'impedance':\n",
    "            continue\n",
    "        \n",
    "        data = cycle['data'][0, 0]\n",
    "        time_arr = data['Time'].flatten()\n",
    "        voltage = data['Voltage_measured'].flatten()\n",
    "        current = data['Current_measured'].flatten()\n",
    "        temperature = data['Temperature_measured'].flatten()\n",
    "        \n",
    "        delta_t = np.diff(time_arr, prepend=time_arr[0])\n",
    "        \n",
    "        cycle_time_arr = cycle['time'][0]\n",
    "        cycle_start_time_str = cycle_time_to_str(cycle_time_arr)\n",
    "        \n",
    "        df = pd.DataFrame({\n",
    "            'Cycle_Relative_Time': time_arr,       # 新增：cycle内相对时间（秒）\n",
    "            'Delta_t': delta_t,\n",
    "            'Voltage': voltage,\n",
    "            'Current': current,\n",
    "            'Temperature': temperature,\n",
    "            'Cycle_Index': i,\n",
    "            'Cycle_Type': cycle_type,\n",
    "            'Cycle_StartTime': cycle_start_time_str\n",
    "        })\n",
    "        \n",
    "        all_dfs.append(df)\n",
    "        \n",
    "    full_df = pd.concat(all_dfs, ignore_index=True)\n",
    "    return full_df\n",
    "\n",
    "# 使用示例同上\n",
    "\n",
    "\n",
    "# 示例路径\n",
    "mat_path = r\"C:\\Users\\shiang Guo\\Desktop\\github_res\\SOC_toyproject\\data\\raw\\BatteryAgingARC-FY08Q4\\B0005.mat\"\n",
    "\n",
    "df = parse_mat_to_df(mat_path)\n",
    "print(df.shape)\n",
    "print(df)\n",
    "\n",
    "# 保存csv\n",
    "output_csv_path = r\"C:\\Users\\shiang Guo\\Desktop\\github_res\\SOC_toyproject\\data\\processed\\B0005_clean.csv\"\n",
    "df.to_csv(output_csv_path, index=False)\n",
    "print(f\"Saved CSV to {output_csv_path}\")\n"
   ]
  },
  {
   "cell_type": "code",
   "execution_count": null,
   "id": "111a3432",
   "metadata": {},
   "outputs": [],
   "source": [
    "import matplotlib.pyplot as plt\n",
    "\n",
    "import pandas as pd\n",
    "\n",
    "\n",
    "def plot_voltage_current_temperature_soc_capacity(df, cycle_index):\n",
    "    cycle_data = df[df['Cycle_Index'] == cycle_index]\n",
    "    if cycle_data.empty:\n",
    "        print(f\"⚠️ Cycle {cycle_index} 数据为空，请检查输入\")\n",
    "        return\n",
    "    \n",
    "    time = cycle_data['Cycle_Relative_Time']\n",
    "\n",
    "    plt.figure(figsize=(18, 8))\n",
    "\n",
    "    plt.subplot(2, 3, 1)\n",
    "    plt.plot(time, cycle_data['Voltage'])\n",
    "    plt.title(f'Cycle {cycle_index} Voltage')\n",
    "    plt.xlabel('Time (s)')\n",
    "    plt.ylabel('Voltage (V)')\n",
    "    plt.grid(True)\n",
    "\n",
    "    plt.subplot(2, 3, 2)\n",
    "    plt.plot(time, cycle_data['Current'])\n",
    "    plt.title(f'Cycle {cycle_index} Current')\n",
    "    plt.xlabel('Time (s)')\n",
    "    plt.ylabel('Current (A)')\n",
    "    plt.grid(True)\n",
    "\n",
    "    plt.subplot(2, 3, 3)\n",
    "    plt.plot(time, cycle_data['Temperature'])\n",
    "    plt.title(f'Cycle {cycle_index} Temperature')\n",
    "    plt.xlabel('Time (s)')\n",
    "    plt.ylabel('Temperature (°C)')\n",
    "    plt.grid(True)\n",
    "\n",
    "    plt.subplot(2, 3, 4)\n",
    "    plt.plot(time, cycle_data['SOC'])\n",
    "    plt.title(f'Cycle {cycle_index} SOC')\n",
    "    plt.xlabel('Time (s)')\n",
    "    plt.ylabel('State of Charge')\n",
    "    plt.grid(True)\n",
    "\n",
    "    plt.subplot(2, 3, 5)\n",
    "    plt.plot(time, cycle_data['Capacity'])\n",
    "    plt.title(f'Cycle {cycle_index} Capacity')\n",
    "    plt.xlabel('Time (s)')\n",
    "    plt.ylabel('Capacity (Ah)')\n",
    "    plt.grid(True)\n",
    "\n",
    "    plt.tight_layout()\n",
    "    plt.show()\n",
    "\n",
    "\n",
    "def plot_from_csv(csv_path, cycle_index):\n",
    "    \"\"\"\n",
    "    从CSV文件加载数据，并绘制指定cycle的电压、电流、温度、SOC、容量曲线。\n",
    "    \n",
    "    参数：\n",
    "        csv_path: str，CSV文件路径\n",
    "        cycle_index: int，要绘制的cycle编号\n",
    "    \"\"\"\n",
    "    df = pd.read_csv(csv_path)\n",
    "    plot_voltage_current_temperature_soc_capacity(df, cycle_index)\n",
    "\n",
    "\n",
    "# 使用示例：\n",
    "csv_file_path = \"data/processed/B0006_soc.csv\"  # 替换为你的CSV路径\n",
    "df = pd.read_csv(csv_file_path)\n",
    "print(df['Cycle_Index'].unique())\n",
    "plot_from_csv(csv_file_path, cycle_index=233)\n"
   ]
  },
  {
   "cell_type": "markdown",
   "id": "424313c2",
   "metadata": {},
   "source": [
    "这是观察某一个cycle 输入的时序向量图"
   ]
  },
  {
   "cell_type": "code",
   "execution_count": null,
   "id": "d914675f",
   "metadata": {},
   "outputs": [],
   "source": [
    "from utils import visualize_battery_cycle"
   ]
  },
  {
   "cell_type": "code",
   "execution_count": null,
   "id": "c4c5cc13",
   "metadata": {},
   "outputs": [],
   "source": [
    "import scipy.io\n",
    "import pandas as pd\n",
    "import matplotlib.pyplot as plt\n",
    "import os\n",
    "import numpy as np\n",
    "import sys\n",
    "os.chdir(r\"c:\\Users\\shiang Guo\\Desktop\\github_res\\SOC_toyproject\")\n",
    "\n",
    "\n",
    "target_dir = r\"C:\\Users\\shiang Guo\\Desktop\\github_res\\SOC_toyproject\"\n",
    "os.chdir(target_dir)\n",
    "print(\"当前工作目录:\", os.getcwd())\n",
    "from utils import batch_convert_mat_to_csv, parse_mat_to_df\n",
    "from utils import visualize_battery_cycle\n"
   ]
  },
  {
   "cell_type": "code",
   "execution_count": null,
   "id": "f27674c6",
   "metadata": {},
   "outputs": [],
   "source": [
    "mat_path = r\"C:\\Users\\shiang Guo\\Desktop\\github_res\\SOC_toyproject\\data\\raw\\BatteryAgingARC-FY08Q4\\B0006.mat\"\n",
    "\n",
    "# 调用函数解析数据\n",
    "df = parse_mat_to_df(mat_path)\n",
    "print(df.shape)\n",
    "# 简单查看前几行\n",
    "print(df.head())\n",
    "\n",
    "# 简单统计\n",
    "print(\"数据总行数:\", len(df))\n",
    "print(\"包含cycle数:\", df['Cycle_Index'].nunique())\n",
    "from utils import batch_convert_mat_to_csv\n",
    "\n",
    "mat_dir = r\"data/raw/batterydata\"\n",
    "csv_dir = r\"data/processed\"\n",
    "\n",
    "batch_convert_mat_to_csv(mat_dir, csv_dir)\n"
   ]
  },
  {
   "cell_type": "code",
   "execution_count": null,
   "id": "263b2a03",
   "metadata": {},
   "outputs": [
    {
     "name": "stdout",
     "output_type": "stream",
     "text": [
      "📂 读取中: B0005_soc.csv\n",
      "✅ 清洗完成: B0005_soc.csv\n",
      "    原始数据行数: 591458\n",
      "    清洗后行数: 585920\n",
      "    删除行数: 5538\n",
      "📁 保存到: data/processed\\B0005_soc_clean.csv\n",
      "\n",
      "📂 读取中: B0006_soc.csv\n",
      "✅ 清洗完成: B0006_soc.csv\n",
      "    原始数据行数: 591458\n",
      "    清洗后行数: 584842\n",
      "    删除行数: 6616\n",
      "📁 保存到: data/processed\\B0006_soc_clean.csv\n",
      "\n",
      "📂 读取中: B0007_soc.csv\n",
      "✅ 清洗完成: B0007_soc.csv\n",
      "    原始数据行数: 591458\n",
      "    清洗后行数: 588736\n",
      "    删除行数: 2722\n",
      "📁 保存到: data/processed\\B0007_soc_clean.csv\n",
      "\n"
     ]
    }
   ],
   "source": [
    "from utils import clean_soc_csv_files\n",
    "clean_soc_csv_files(\"data/processed\")\n"
   ]
  },
  {
   "cell_type": "code",
   "execution_count": 5,
   "id": "824910e8",
   "metadata": {},
   "outputs": [
    {
     "name": "stdout",
     "output_type": "stream",
     "text": [
      "   Cycle_Relative_Time  Delta_t   Voltage   Current  Temperature  Cycle_Index  \\\n",
      "0                0.000    0.000  3.866123 -0.003830    24.434244            0   \n",
      "1                8.344    2.844  4.011041  1.491029    24.459603            0   \n",
      "2               11.125    2.781  4.017485  1.491413    24.458385            0   \n",
      "3               13.891    2.766  4.023051  1.489503    24.459908            0   \n",
      "4               16.672    2.781  4.027732  1.488795    24.470894            0   \n",
      "\n",
      "  Cycle_Type      Cycle_StartTime  Capacity       SOC  \n",
      "0     charge  2008-04-02 13:08:17  0.804817 -0.000000  \n",
      "1     charge  2008-04-02 13:08:17  0.804817  0.001012  \n",
      "2     charge  2008-04-02 13:08:17  0.804817  0.002444  \n",
      "3     charge  2008-04-02 13:08:17  0.804817  0.003866  \n",
      "4     charge  2008-04-02 13:08:17  0.804817  0.005295  \n"
     ]
    }
   ],
   "source": [
    "df = pd.read_csv(\"data/processed/B0007_soc_clean.csv\")\n",
    "print(df.head())"
   ]
  },
  {
   "cell_type": "code",
   "execution_count": 1,
   "id": "5a84d994",
   "metadata": {},
   "outputs": [],
   "source": [
    "import sklearn\n",
    "from sklearn.model_selection import train_test_split"
   ]
  },
  {
   "cell_type": "code",
   "execution_count": 4,
   "id": "5dcc69b6",
   "metadata": {},
   "outputs": [
    {
     "name": "stdout",
     "output_type": "stream",
     "text": [
      "Index(['epoch', 'train_loss', 'val_loss'], dtype='object')\n",
      "   epoch  train_loss  val_loss\n",
      "0      1    0.026871  0.001860\n",
      "1      2    0.003923  0.001865\n",
      "2      3    0.003597  0.001728\n",
      "3      4    0.003364  0.001935\n",
      "4      5    0.003231  0.001632\n"
     ]
    },
    {
     "data": {
      "image/png": "[encoded data removed]",
      "text/plain": [
       "<Figure size 800x500 with 1 Axes>"
      ]
     },
     "metadata": {},
     "output_type": "display_data"
    }
   ],
   "source": [
    "import pandas as pd\n",
    "import matplotlib.pyplot as plt\n",
    "\n",
    "file_path = r'C:\\Users\\shiang Guo\\Desktop\\github_res\\SOC_toyproject_results\\1DCNN_basic\\Basic1DCNN\\Basic1DCNN\\loss_history.csv'\n",
    "\n",
    "# 用默认逗号分隔读取数据\n",
    "data = pd.read_csv(file_path)\n",
    "\n",
    "print(data.columns)\n",
    "print(data.head())\n",
    "\n",
    "# 画图\n",
    "plt.figure(figsize=(8,5))\n",
    "plt.plot(data['epoch'], data['train_loss'], label='Train Loss')\n",
    "plt.plot(data['epoch'], data['val_loss'], label='Validation Loss')\n",
    "plt.xlabel('Epoch')\n",
    "plt.ylabel('Loss')\n",
    "plt.title('Training and Validation Loss over Epochs')\n",
    "plt.legend()\n",
    "plt.grid(True)\n",
    "plt.show()\n"
   ]
  }
 ],
 "metadata": {
  "kernelspec": {
   "display_name": "SOC_VENVONE",
   "language": "python",
   "name": "python3"
  },
  "language_info": {
   "codemirror_mode": {
    "name": "ipython",
    "version": 3
   },
   "file_extension": ".py",
   "mimetype": "text/x-python",
   "name": "python",
   "nbconvert_exporter": "python",
   "pygments_lexer": "ipython3",
   "version": "3.10.6"
  }
 },
 "nbformat": 4,
 "nbformat_minor": 5
}
